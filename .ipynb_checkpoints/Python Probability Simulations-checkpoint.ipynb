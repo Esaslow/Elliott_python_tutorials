{
 "cells": [
  {
   "cell_type": "markdown",
   "metadata": {},
   "source": [
    "## Python Probability Simulations\n",
    "Two unbiased dice are thrown once and the total score is observed. Use a\n",
    "simulation to find the estimated probability that the total score is even\n",
    "or greater than 7.\n",
    "    \n",
    "**2 ways to approach this problem:**\n",
    "\n",
    "1. Math\n",
    "    - Eww\n",
    "2. Probability simulation\n",
    "    - Fun!\n",
    "\n",
    "To find the probability to answer the question, you want to approach the problem in the following way:\n",
    "```\n",
    "Make a new list\n",
    "\n",
    "for n tries:\n",
    "    roll dice 1\n",
    "    roll dice 2\n",
    "    find the score by adding the 2 together\n",
    "    if the score meets the requirements, add it to the total\n",
    "    divide total by number of tries\n",
    "    \n",
    "```"
   ]
  },
  {
   "cell_type": "code",
   "execution_count": 1,
   "metadata": {},
   "outputs": [],
   "source": [
    "import random \n",
    "\n",
    "#Function for roll the Dice\n",
    "def roll_the_dice(n_simulations = 100000):\n",
    "    lst = []\n",
    "    \n",
    "    #each iteration of the for loop is trial\n",
    "    for i in range(n_simulations):\n",
    "        die1 = random.randint(1, 6)\n",
    "        die2 = random.randint(1, 6)\n",
    "        score = die1 + die2\n",
    "        \n",
    "        #Your Code Goes here!\n",
    "        \n",
    "        lst.append(score)\n",
    "    return lst"
   ]
  },
  {
   "cell_type": "code",
   "execution_count": 3,
   "metadata": {},
   "outputs": [
    {
     "name": "stderr",
     "output_type": "stream",
     "text": [
      "/Users/elliottsaslow/anaconda3/lib/python3.6/site-packages/matplotlib/axes/_axes.py:6462: UserWarning: The 'normed' kwarg is deprecated, and has been replaced by the 'density' kwarg.\n",
      "  warnings.warn(\"The 'normed' kwarg is deprecated, and has been \"\n"
     ]
    },
    {
     "data": {
      "image/png": "[encoded data removed]",
      "text/plain": [
       "<Figure size 432x288 with 1 Axes>"
      ]
     },
     "metadata": {},
     "output_type": "display_data"
    }
   ],
   "source": [
    "import matplotlib.pyplot as plt\n",
    "simulations = roll_the_dice()\n",
    "plt.hist(simulations,bins = 11,normed = 1)\n",
    "plt.title('Distribution of sum of two dice')\n",
    "plt.xlabel('Sum of die')\n",
    "plt.ylabel('Percentage');\n",
    "plt.grid(alpha = .4,c='g',ls='--')"
   ]
  },
  {
   "cell_type": "markdown",
   "metadata": {},
   "source": [
    "### Other Questions:\n",
    "1. A box contains 10 white balls, 20 reds and 30 greens.  Draw 5... what is the prob that:\n",
    "    - 3 white or 2 red\n",
    "    - All 5 are the same color\n",
    "    \n",
    "2. Find the probability that a poker hand contains:\n",
    "     - At least 1 Spade\n",
    "     - At least 3 Spades\n",
    "     \n",
    "3. **Challenge** There are 50 states and 2 senators from each. Find the Probability that out of 15 senators:\n",
    "    - At least 1 from Hawaii, Mass, and Colorado\n",
    "    - 2 from California"
   ]
  },
  {
   "cell_type": "code",
   "execution_count": 4,
   "metadata": {},
   "outputs": [
    {
     "name": "stdout",
     "output_type": "stream",
     "text": [
      "red: 3 | white: 0 | green: 2\n"
     ]
    }
   ],
   "source": [
    "import numpy as np\n",
    "# 1. Lets set up the dictionary that we will use for this question\n",
    "d = {}\n",
    "for i in range(60):\n",
    "    if i < 10:\n",
    "        d[i] = 'white'\n",
    "    elif i > 9 and i < 30:\n",
    "        d[i] = 'red'\n",
    "    else:\n",
    "        d[i] = 'green'\n",
    "\n",
    "\n",
    "#make a list of the colors that we chose\n",
    "lst = []\n",
    "for i in range(5):\n",
    "    lst.append(d[random.randint(0, 59)])\n",
    "\n",
    "#convert it to a numpy array\n",
    "lst = np.array(lst)\n",
    "\n",
    "#find the number of each that we picked\n",
    "white = sum(lst == 'white')\n",
    "red = sum(lst == 'red')\n",
    "green = sum(lst == 'green')\n",
    "\n",
    "print('red:',red,'| white:',white,'| green:',green)\n",
    "\n",
    "\n",
    "#Your code goes here!\n"
   ]
  },
  {
   "cell_type": "code",
   "execution_count": null,
   "metadata": {},
   "outputs": [],
   "source": []
  }
 ],
 "metadata": {
  "kernelspec": {
   "display_name": "Python 3",
   "language": "python",
   "name": "python3"
  },
  "language_info": {
   "codemirror_mode": {
    "name": "ipython",
    "version": 3
   },
   "file_extension": ".py",
   "mimetype": "text/x-python",
   "name": "python",
   "nbconvert_exporter": "python",
   "pygments_lexer": "ipython3",
   "version": "3.6.5"
  }
 },
 "nbformat": 4,
 "nbformat_minor": 2
}
